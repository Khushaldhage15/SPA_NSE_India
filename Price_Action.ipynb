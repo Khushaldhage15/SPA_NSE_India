{
 "cells": [
  {
   "cell_type": "code",
   "execution_count": 2,
   "id": "94065eb7-4002-4c9e-ab3a-f59ceac4f737",
   "metadata": {},
   "outputs": [],
   "source": [
    "import pandas as pd\n",
    "import numpy as np \n",
    "import seaborn as sb\n",
    "import matplotlib.pyplot as plt\n",
    "import warnings\n",
    "warnings.filterwarnings(\"ignore\")"
   ]
  },
  {
   "cell_type": "code",
   "execution_count": 3,
   "id": "4445e4c1-3555-488e-bc4d-b2629bf1f786",
   "metadata": {},
   "outputs": [
    {
     "data": {
      "text/html": [
       "<div>\n",
       "<style scoped>\n",
       "    .dataframe tbody tr th:only-of-type {\n",
       "        vertical-align: middle;\n",
       "    }\n",
       "\n",
       "    .dataframe tbody tr th {\n",
       "        vertical-align: top;\n",
       "    }\n",
       "\n",
       "    .dataframe thead th {\n",
       "        text-align: right;\n",
       "    }\n",
       "</style>\n",
       "<table border=\"1\" class=\"dataframe\">\n",
       "  <thead>\n",
       "    <tr style=\"text-align: right;\">\n",
       "      <th></th>\n",
       "      <th>Unnamed: 0</th>\n",
       "      <th>Date</th>\n",
       "      <th>Open</th>\n",
       "      <th>High</th>\n",
       "      <th>Low</th>\n",
       "      <th>Close</th>\n",
       "      <th>Adj Close</th>\n",
       "      <th>Volume</th>\n",
       "      <th>Symbol</th>\n",
       "      <th>Category</th>\n",
       "    </tr>\n",
       "  </thead>\n",
       "  <tbody>\n",
       "    <tr>\n",
       "      <th>0</th>\n",
       "      <td>0</td>\n",
       "      <td>2024-01-01</td>\n",
       "      <td>3790.000000</td>\n",
       "      <td>3832.000000</td>\n",
       "      <td>3773.000000</td>\n",
       "      <td>3811.100098</td>\n",
       "      <td>3757.422119</td>\n",
       "      <td>825907</td>\n",
       "      <td>TCS</td>\n",
       "      <td>IT_industry</td>\n",
       "    </tr>\n",
       "    <tr>\n",
       "      <th>1</th>\n",
       "      <td>1</td>\n",
       "      <td>2024-01-02</td>\n",
       "      <td>3811.100098</td>\n",
       "      <td>3811.100098</td>\n",
       "      <td>3767.250000</td>\n",
       "      <td>3783.199951</td>\n",
       "      <td>3729.915039</td>\n",
       "      <td>1344068</td>\n",
       "      <td>TCS</td>\n",
       "      <td>IT_industry</td>\n",
       "    </tr>\n",
       "    <tr>\n",
       "      <th>2</th>\n",
       "      <td>2</td>\n",
       "      <td>2024-01-03</td>\n",
       "      <td>3767.000000</td>\n",
       "      <td>3771.850098</td>\n",
       "      <td>3687.050049</td>\n",
       "      <td>3691.750000</td>\n",
       "      <td>3639.753174</td>\n",
       "      <td>1803075</td>\n",
       "      <td>TCS</td>\n",
       "      <td>IT_industry</td>\n",
       "    </tr>\n",
       "    <tr>\n",
       "      <th>3</th>\n",
       "      <td>3</td>\n",
       "      <td>2024-01-04</td>\n",
       "      <td>3701.750000</td>\n",
       "      <td>3719.000000</td>\n",
       "      <td>3651.000000</td>\n",
       "      <td>3666.800049</td>\n",
       "      <td>3615.154541</td>\n",
       "      <td>3598144</td>\n",
       "      <td>TCS</td>\n",
       "      <td>IT_industry</td>\n",
       "    </tr>\n",
       "    <tr>\n",
       "      <th>4</th>\n",
       "      <td>4</td>\n",
       "      <td>2024-01-05</td>\n",
       "      <td>3675.000000</td>\n",
       "      <td>3747.750000</td>\n",
       "      <td>3674.850098</td>\n",
       "      <td>3737.899902</td>\n",
       "      <td>3685.252930</td>\n",
       "      <td>1963127</td>\n",
       "      <td>TCS</td>\n",
       "      <td>IT_industry</td>\n",
       "    </tr>\n",
       "    <tr>\n",
       "      <th>...</th>\n",
       "      <td>...</td>\n",
       "      <td>...</td>\n",
       "      <td>...</td>\n",
       "      <td>...</td>\n",
       "      <td>...</td>\n",
       "      <td>...</td>\n",
       "      <td>...</td>\n",
       "      <td>...</td>\n",
       "      <td>...</td>\n",
       "      <td>...</td>\n",
       "    </tr>\n",
       "    <tr>\n",
       "      <th>10813</th>\n",
       "      <td>2218</td>\n",
       "      <td>2024-09-05</td>\n",
       "      <td>654.000000</td>\n",
       "      <td>684.000000</td>\n",
       "      <td>653.700012</td>\n",
       "      <td>664.500000</td>\n",
       "      <td>664.500000</td>\n",
       "      <td>3457002</td>\n",
       "      <td>RITES</td>\n",
       "      <td>Railways</td>\n",
       "    </tr>\n",
       "    <tr>\n",
       "      <th>10814</th>\n",
       "      <td>2219</td>\n",
       "      <td>2024-09-06</td>\n",
       "      <td>667.799988</td>\n",
       "      <td>679.849976</td>\n",
       "      <td>657.099976</td>\n",
       "      <td>661.849976</td>\n",
       "      <td>661.849976</td>\n",
       "      <td>1482454</td>\n",
       "      <td>RITES</td>\n",
       "      <td>Railways</td>\n",
       "    </tr>\n",
       "    <tr>\n",
       "      <th>10815</th>\n",
       "      <td>2220</td>\n",
       "      <td>2024-09-09</td>\n",
       "      <td>665.750000</td>\n",
       "      <td>677.900024</td>\n",
       "      <td>664.000000</td>\n",
       "      <td>672.750000</td>\n",
       "      <td>672.750000</td>\n",
       "      <td>1991325</td>\n",
       "      <td>RITES</td>\n",
       "      <td>Railways</td>\n",
       "    </tr>\n",
       "    <tr>\n",
       "      <th>10816</th>\n",
       "      <td>2221</td>\n",
       "      <td>2024-09-10</td>\n",
       "      <td>677.000000</td>\n",
       "      <td>684.000000</td>\n",
       "      <td>675.500000</td>\n",
       "      <td>678.900024</td>\n",
       "      <td>678.900024</td>\n",
       "      <td>624747</td>\n",
       "      <td>RITES</td>\n",
       "      <td>Railways</td>\n",
       "    </tr>\n",
       "    <tr>\n",
       "      <th>10817</th>\n",
       "      <td>2222</td>\n",
       "      <td>2024-09-11</td>\n",
       "      <td>681.000000</td>\n",
       "      <td>683.000000</td>\n",
       "      <td>674.049988</td>\n",
       "      <td>680.500000</td>\n",
       "      <td>680.500000</td>\n",
       "      <td>704295</td>\n",
       "      <td>RITES</td>\n",
       "      <td>Railways</td>\n",
       "    </tr>\n",
       "  </tbody>\n",
       "</table>\n",
       "<p>10818 rows × 10 columns</p>\n",
       "</div>"
      ],
      "text/plain": [
       "       Unnamed: 0        Date         Open         High          Low  \\\n",
       "0               0  2024-01-01  3790.000000  3832.000000  3773.000000   \n",
       "1               1  2024-01-02  3811.100098  3811.100098  3767.250000   \n",
       "2               2  2024-01-03  3767.000000  3771.850098  3687.050049   \n",
       "3               3  2024-01-04  3701.750000  3719.000000  3651.000000   \n",
       "4               4  2024-01-05  3675.000000  3747.750000  3674.850098   \n",
       "...           ...         ...          ...          ...          ...   \n",
       "10813        2218  2024-09-05   654.000000   684.000000   653.700012   \n",
       "10814        2219  2024-09-06   667.799988   679.849976   657.099976   \n",
       "10815        2220  2024-09-09   665.750000   677.900024   664.000000   \n",
       "10816        2221  2024-09-10   677.000000   684.000000   675.500000   \n",
       "10817        2222  2024-09-11   681.000000   683.000000   674.049988   \n",
       "\n",
       "             Close    Adj Close   Volume Symbol     Category  \n",
       "0      3811.100098  3757.422119   825907    TCS  IT_industry  \n",
       "1      3783.199951  3729.915039  1344068    TCS  IT_industry  \n",
       "2      3691.750000  3639.753174  1803075    TCS  IT_industry  \n",
       "3      3666.800049  3615.154541  3598144    TCS  IT_industry  \n",
       "4      3737.899902  3685.252930  1963127    TCS  IT_industry  \n",
       "...            ...          ...      ...    ...          ...  \n",
       "10813   664.500000   664.500000  3457002  RITES     Railways  \n",
       "10814   661.849976   661.849976  1482454  RITES     Railways  \n",
       "10815   672.750000   672.750000  1991325  RITES     Railways  \n",
       "10816   678.900024   678.900024   624747  RITES     Railways  \n",
       "10817   680.500000   680.500000   704295  RITES     Railways  \n",
       "\n",
       "[10818 rows x 10 columns]"
      ]
     },
     "execution_count": 3,
     "metadata": {},
     "output_type": "execute_result"
    }
   ],
   "source": [
    "df = pd.read_csv(\"../DataSets/Stockslive.csv\")\n",
    "df"
   ]
  },
  {
   "cell_type": "code",
   "execution_count": 4,
   "id": "08d1473f-2141-4ab2-9be9-15c532eb328d",
   "metadata": {},
   "outputs": [],
   "source": [
    "df.drop(\"Unnamed: 0\",axis=1,inplace=True)"
   ]
  },
  {
   "cell_type": "code",
   "execution_count": 5,
   "id": "7f13f42d-399e-4812-a155-fa04045b46d2",
   "metadata": {},
   "outputs": [
    {
     "data": {
      "text/html": [
       "<div>\n",
       "<style scoped>\n",
       "    .dataframe tbody tr th:only-of-type {\n",
       "        vertical-align: middle;\n",
       "    }\n",
       "\n",
       "    .dataframe tbody tr th {\n",
       "        vertical-align: top;\n",
       "    }\n",
       "\n",
       "    .dataframe thead th {\n",
       "        text-align: right;\n",
       "    }\n",
       "</style>\n",
       "<table border=\"1\" class=\"dataframe\">\n",
       "  <thead>\n",
       "    <tr style=\"text-align: right;\">\n",
       "      <th></th>\n",
       "      <th>Date</th>\n",
       "      <th>Open</th>\n",
       "      <th>High</th>\n",
       "      <th>Low</th>\n",
       "      <th>Close</th>\n",
       "      <th>Adj Close</th>\n",
       "      <th>Volume</th>\n",
       "      <th>Symbol</th>\n",
       "      <th>Category</th>\n",
       "    </tr>\n",
       "  </thead>\n",
       "  <tbody>\n",
       "    <tr>\n",
       "      <th>0</th>\n",
       "      <td>2024-01-01</td>\n",
       "      <td>3790.000000</td>\n",
       "      <td>3832.000000</td>\n",
       "      <td>3773.000000</td>\n",
       "      <td>3811.100098</td>\n",
       "      <td>3757.422119</td>\n",
       "      <td>825907</td>\n",
       "      <td>TCS</td>\n",
       "      <td>IT_industry</td>\n",
       "    </tr>\n",
       "    <tr>\n",
       "      <th>1</th>\n",
       "      <td>2024-01-02</td>\n",
       "      <td>3811.100098</td>\n",
       "      <td>3811.100098</td>\n",
       "      <td>3767.250000</td>\n",
       "      <td>3783.199951</td>\n",
       "      <td>3729.915039</td>\n",
       "      <td>1344068</td>\n",
       "      <td>TCS</td>\n",
       "      <td>IT_industry</td>\n",
       "    </tr>\n",
       "    <tr>\n",
       "      <th>2</th>\n",
       "      <td>2024-01-03</td>\n",
       "      <td>3767.000000</td>\n",
       "      <td>3771.850098</td>\n",
       "      <td>3687.050049</td>\n",
       "      <td>3691.750000</td>\n",
       "      <td>3639.753174</td>\n",
       "      <td>1803075</td>\n",
       "      <td>TCS</td>\n",
       "      <td>IT_industry</td>\n",
       "    </tr>\n",
       "    <tr>\n",
       "      <th>3</th>\n",
       "      <td>2024-01-04</td>\n",
       "      <td>3701.750000</td>\n",
       "      <td>3719.000000</td>\n",
       "      <td>3651.000000</td>\n",
       "      <td>3666.800049</td>\n",
       "      <td>3615.154541</td>\n",
       "      <td>3598144</td>\n",
       "      <td>TCS</td>\n",
       "      <td>IT_industry</td>\n",
       "    </tr>\n",
       "    <tr>\n",
       "      <th>4</th>\n",
       "      <td>2024-01-05</td>\n",
       "      <td>3675.000000</td>\n",
       "      <td>3747.750000</td>\n",
       "      <td>3674.850098</td>\n",
       "      <td>3737.899902</td>\n",
       "      <td>3685.252930</td>\n",
       "      <td>1963127</td>\n",
       "      <td>TCS</td>\n",
       "      <td>IT_industry</td>\n",
       "    </tr>\n",
       "    <tr>\n",
       "      <th>...</th>\n",
       "      <td>...</td>\n",
       "      <td>...</td>\n",
       "      <td>...</td>\n",
       "      <td>...</td>\n",
       "      <td>...</td>\n",
       "      <td>...</td>\n",
       "      <td>...</td>\n",
       "      <td>...</td>\n",
       "      <td>...</td>\n",
       "    </tr>\n",
       "    <tr>\n",
       "      <th>10813</th>\n",
       "      <td>2024-09-05</td>\n",
       "      <td>654.000000</td>\n",
       "      <td>684.000000</td>\n",
       "      <td>653.700012</td>\n",
       "      <td>664.500000</td>\n",
       "      <td>664.500000</td>\n",
       "      <td>3457002</td>\n",
       "      <td>RITES</td>\n",
       "      <td>Railways</td>\n",
       "    </tr>\n",
       "    <tr>\n",
       "      <th>10814</th>\n",
       "      <td>2024-09-06</td>\n",
       "      <td>667.799988</td>\n",
       "      <td>679.849976</td>\n",
       "      <td>657.099976</td>\n",
       "      <td>661.849976</td>\n",
       "      <td>661.849976</td>\n",
       "      <td>1482454</td>\n",
       "      <td>RITES</td>\n",
       "      <td>Railways</td>\n",
       "    </tr>\n",
       "    <tr>\n",
       "      <th>10815</th>\n",
       "      <td>2024-09-09</td>\n",
       "      <td>665.750000</td>\n",
       "      <td>677.900024</td>\n",
       "      <td>664.000000</td>\n",
       "      <td>672.750000</td>\n",
       "      <td>672.750000</td>\n",
       "      <td>1991325</td>\n",
       "      <td>RITES</td>\n",
       "      <td>Railways</td>\n",
       "    </tr>\n",
       "    <tr>\n",
       "      <th>10816</th>\n",
       "      <td>2024-09-10</td>\n",
       "      <td>677.000000</td>\n",
       "      <td>684.000000</td>\n",
       "      <td>675.500000</td>\n",
       "      <td>678.900024</td>\n",
       "      <td>678.900024</td>\n",
       "      <td>624747</td>\n",
       "      <td>RITES</td>\n",
       "      <td>Railways</td>\n",
       "    </tr>\n",
       "    <tr>\n",
       "      <th>10817</th>\n",
       "      <td>2024-09-11</td>\n",
       "      <td>681.000000</td>\n",
       "      <td>683.000000</td>\n",
       "      <td>674.049988</td>\n",
       "      <td>680.500000</td>\n",
       "      <td>680.500000</td>\n",
       "      <td>704295</td>\n",
       "      <td>RITES</td>\n",
       "      <td>Railways</td>\n",
       "    </tr>\n",
       "  </tbody>\n",
       "</table>\n",
       "<p>10818 rows × 9 columns</p>\n",
       "</div>"
      ],
      "text/plain": [
       "             Date         Open         High          Low        Close  \\\n",
       "0      2024-01-01  3790.000000  3832.000000  3773.000000  3811.100098   \n",
       "1      2024-01-02  3811.100098  3811.100098  3767.250000  3783.199951   \n",
       "2      2024-01-03  3767.000000  3771.850098  3687.050049  3691.750000   \n",
       "3      2024-01-04  3701.750000  3719.000000  3651.000000  3666.800049   \n",
       "4      2024-01-05  3675.000000  3747.750000  3674.850098  3737.899902   \n",
       "...           ...          ...          ...          ...          ...   \n",
       "10813  2024-09-05   654.000000   684.000000   653.700012   664.500000   \n",
       "10814  2024-09-06   667.799988   679.849976   657.099976   661.849976   \n",
       "10815  2024-09-09   665.750000   677.900024   664.000000   672.750000   \n",
       "10816  2024-09-10   677.000000   684.000000   675.500000   678.900024   \n",
       "10817  2024-09-11   681.000000   683.000000   674.049988   680.500000   \n",
       "\n",
       "         Adj Close   Volume Symbol     Category  \n",
       "0      3757.422119   825907    TCS  IT_industry  \n",
       "1      3729.915039  1344068    TCS  IT_industry  \n",
       "2      3639.753174  1803075    TCS  IT_industry  \n",
       "3      3615.154541  3598144    TCS  IT_industry  \n",
       "4      3685.252930  1963127    TCS  IT_industry  \n",
       "...            ...      ...    ...          ...  \n",
       "10813   664.500000  3457002  RITES     Railways  \n",
       "10814   661.849976  1482454  RITES     Railways  \n",
       "10815   672.750000  1991325  RITES     Railways  \n",
       "10816   678.900024   624747  RITES     Railways  \n",
       "10817   680.500000   704295  RITES     Railways  \n",
       "\n",
       "[10818 rows x 9 columns]"
      ]
     },
     "execution_count": 5,
     "metadata": {},
     "output_type": "execute_result"
    }
   ],
   "source": [
    "df"
   ]
  },
  {
   "cell_type": "code",
   "execution_count": 6,
   "id": "45878bbd-ca36-4566-bf20-f1bf6c3cf820",
   "metadata": {},
   "outputs": [
    {
     "data": {
      "text/plain": [
       "Date         0\n",
       "Open         0\n",
       "High         0\n",
       "Low          0\n",
       "Close        0\n",
       "Adj Close    0\n",
       "Volume       0\n",
       "Symbol       0\n",
       "Category     0\n",
       "dtype: int64"
      ]
     },
     "execution_count": 6,
     "metadata": {},
     "output_type": "execute_result"
    }
   ],
   "source": [
    "df.isnull().sum()"
   ]
  },
  {
   "cell_type": "code",
   "execution_count": 7,
   "id": "6729a804-b9ab-45b5-8e2f-6792ac104a0e",
   "metadata": {},
   "outputs": [
    {
     "data": {
      "text/plain": [
       "Date          object\n",
       "Open         float64\n",
       "High         float64\n",
       "Low          float64\n",
       "Close        float64\n",
       "Adj Close    float64\n",
       "Volume         int64\n",
       "Symbol        object\n",
       "Category      object\n",
       "dtype: object"
      ]
     },
     "execution_count": 7,
     "metadata": {},
     "output_type": "execute_result"
    }
   ],
   "source": [
    "df.dtypes"
   ]
  },
  {
   "cell_type": "code",
   "execution_count": 8,
   "id": "b4b0c3e0-285b-4164-9530-d923a704ff9b",
   "metadata": {},
   "outputs": [
    {
     "data": {
      "text/html": [
       "<div>\n",
       "<style scoped>\n",
       "    .dataframe tbody tr th:only-of-type {\n",
       "        vertical-align: middle;\n",
       "    }\n",
       "\n",
       "    .dataframe tbody tr th {\n",
       "        vertical-align: top;\n",
       "    }\n",
       "\n",
       "    .dataframe thead th {\n",
       "        text-align: right;\n",
       "    }\n",
       "</style>\n",
       "<table border=\"1\" class=\"dataframe\">\n",
       "  <thead>\n",
       "    <tr style=\"text-align: right;\">\n",
       "      <th></th>\n",
       "      <th>Open</th>\n",
       "      <th>High</th>\n",
       "      <th>Low</th>\n",
       "      <th>Close</th>\n",
       "      <th>Adj Close</th>\n",
       "      <th>Volume</th>\n",
       "    </tr>\n",
       "  </thead>\n",
       "  <tbody>\n",
       "    <tr>\n",
       "      <th>count</th>\n",
       "      <td>10818.000000</td>\n",
       "      <td>10818.000000</td>\n",
       "      <td>10818.000000</td>\n",
       "      <td>10818.000000</td>\n",
       "      <td>10818.000000</td>\n",
       "      <td>1.081800e+04</td>\n",
       "    </tr>\n",
       "    <tr>\n",
       "      <th>mean</th>\n",
       "      <td>2217.583313</td>\n",
       "      <td>2248.264960</td>\n",
       "      <td>2184.862165</td>\n",
       "      <td>2215.138813</td>\n",
       "      <td>2202.548515</td>\n",
       "      <td>6.821406e+06</td>\n",
       "    </tr>\n",
       "    <tr>\n",
       "      <th>std</th>\n",
       "      <td>2169.679821</td>\n",
       "      <td>2199.018091</td>\n",
       "      <td>2139.296904</td>\n",
       "      <td>2167.746543</td>\n",
       "      <td>2156.404235</td>\n",
       "      <td>1.726702e+07</td>\n",
       "    </tr>\n",
       "    <tr>\n",
       "      <th>min</th>\n",
       "      <td>48.500000</td>\n",
       "      <td>50.650002</td>\n",
       "      <td>45.950001</td>\n",
       "      <td>47.799999</td>\n",
       "      <td>47.799999</td>\n",
       "      <td>0.000000e+00</td>\n",
       "    </tr>\n",
       "    <tr>\n",
       "      <th>25%</th>\n",
       "      <td>490.675003</td>\n",
       "      <td>497.875008</td>\n",
       "      <td>483.487511</td>\n",
       "      <td>489.950012</td>\n",
       "      <td>489.074944</td>\n",
       "      <td>3.754138e+05</td>\n",
       "    </tr>\n",
       "    <tr>\n",
       "      <th>50%</th>\n",
       "      <td>1429.949951</td>\n",
       "      <td>1445.699951</td>\n",
       "      <td>1413.050049</td>\n",
       "      <td>1428.775024</td>\n",
       "      <td>1414.153076</td>\n",
       "      <td>1.526904e+06</td>\n",
       "    </tr>\n",
       "    <tr>\n",
       "      <th>75%</th>\n",
       "      <td>3480.000000</td>\n",
       "      <td>3529.500000</td>\n",
       "      <td>3418.787598</td>\n",
       "      <td>3473.600098</td>\n",
       "      <td>3458.862488</td>\n",
       "      <td>6.514531e+06</td>\n",
       "    </tr>\n",
       "    <tr>\n",
       "      <th>max</th>\n",
       "      <td>11507.099609</td>\n",
       "      <td>11717.000000</td>\n",
       "      <td>11477.250000</td>\n",
       "      <td>11575.599609</td>\n",
       "      <td>11575.599609</td>\n",
       "      <td>4.927053e+08</td>\n",
       "    </tr>\n",
       "  </tbody>\n",
       "</table>\n",
       "</div>"
      ],
      "text/plain": [
       "               Open          High           Low         Close     Adj Close  \\\n",
       "count  10818.000000  10818.000000  10818.000000  10818.000000  10818.000000   \n",
       "mean    2217.583313   2248.264960   2184.862165   2215.138813   2202.548515   \n",
       "std     2169.679821   2199.018091   2139.296904   2167.746543   2156.404235   \n",
       "min       48.500000     50.650002     45.950001     47.799999     47.799999   \n",
       "25%      490.675003    497.875008    483.487511    489.950012    489.074944   \n",
       "50%     1429.949951   1445.699951   1413.050049   1428.775024   1414.153076   \n",
       "75%     3480.000000   3529.500000   3418.787598   3473.600098   3458.862488   \n",
       "max    11507.099609  11717.000000  11477.250000  11575.599609  11575.599609   \n",
       "\n",
       "             Volume  \n",
       "count  1.081800e+04  \n",
       "mean   6.821406e+06  \n",
       "std    1.726702e+07  \n",
       "min    0.000000e+00  \n",
       "25%    3.754138e+05  \n",
       "50%    1.526904e+06  \n",
       "75%    6.514531e+06  \n",
       "max    4.927053e+08  "
      ]
     },
     "execution_count": 8,
     "metadata": {},
     "output_type": "execute_result"
    }
   ],
   "source": [
    "df.describe()"
   ]
  },
  {
   "cell_type": "markdown",
   "id": "d2b9e8b9-a379-4277-9b8d-cd1b1cf78e5d",
   "metadata": {},
   "source": [
    "# Correlation"
   ]
  },
  {
   "cell_type": "code",
   "execution_count": 9,
   "id": "8f721d50-15fb-42f8-b9a2-c609e088d39d",
   "metadata": {},
   "outputs": [
    {
     "data": {
      "text/html": [
       "<div>\n",
       "<style scoped>\n",
       "    .dataframe tbody tr th:only-of-type {\n",
       "        vertical-align: middle;\n",
       "    }\n",
       "\n",
       "    .dataframe tbody tr th {\n",
       "        vertical-align: top;\n",
       "    }\n",
       "\n",
       "    .dataframe thead th {\n",
       "        text-align: right;\n",
       "    }\n",
       "</style>\n",
       "<table border=\"1\" class=\"dataframe\">\n",
       "  <thead>\n",
       "    <tr style=\"text-align: right;\">\n",
       "      <th></th>\n",
       "      <th>Open</th>\n",
       "      <th>High</th>\n",
       "      <th>Low</th>\n",
       "      <th>Close</th>\n",
       "      <th>Adj Close</th>\n",
       "      <th>Volume</th>\n",
       "    </tr>\n",
       "  </thead>\n",
       "  <tbody>\n",
       "    <tr>\n",
       "      <th>Open</th>\n",
       "      <td>1.000000</td>\n",
       "      <td>0.999729</td>\n",
       "      <td>0.999782</td>\n",
       "      <td>0.999585</td>\n",
       "      <td>0.999522</td>\n",
       "      <td>-0.268258</td>\n",
       "    </tr>\n",
       "    <tr>\n",
       "      <th>High</th>\n",
       "      <td>0.999729</td>\n",
       "      <td>1.000000</td>\n",
       "      <td>0.999649</td>\n",
       "      <td>0.999833</td>\n",
       "      <td>0.999766</td>\n",
       "      <td>-0.267634</td>\n",
       "    </tr>\n",
       "    <tr>\n",
       "      <th>Low</th>\n",
       "      <td>0.999782</td>\n",
       "      <td>0.999649</td>\n",
       "      <td>1.000000</td>\n",
       "      <td>0.999783</td>\n",
       "      <td>0.999730</td>\n",
       "      <td>-0.268473</td>\n",
       "    </tr>\n",
       "    <tr>\n",
       "      <th>Close</th>\n",
       "      <td>0.999585</td>\n",
       "      <td>0.999833</td>\n",
       "      <td>0.999783</td>\n",
       "      <td>1.000000</td>\n",
       "      <td>0.999942</td>\n",
       "      <td>-0.267879</td>\n",
       "    </tr>\n",
       "    <tr>\n",
       "      <th>Adj Close</th>\n",
       "      <td>0.999522</td>\n",
       "      <td>0.999766</td>\n",
       "      <td>0.999730</td>\n",
       "      <td>0.999942</td>\n",
       "      <td>1.000000</td>\n",
       "      <td>-0.267742</td>\n",
       "    </tr>\n",
       "    <tr>\n",
       "      <th>Volume</th>\n",
       "      <td>-0.268258</td>\n",
       "      <td>-0.267634</td>\n",
       "      <td>-0.268473</td>\n",
       "      <td>-0.267879</td>\n",
       "      <td>-0.267742</td>\n",
       "      <td>1.000000</td>\n",
       "    </tr>\n",
       "  </tbody>\n",
       "</table>\n",
       "</div>"
      ],
      "text/plain": [
       "               Open      High       Low     Close  Adj Close    Volume\n",
       "Open       1.000000  0.999729  0.999782  0.999585   0.999522 -0.268258\n",
       "High       0.999729  1.000000  0.999649  0.999833   0.999766 -0.267634\n",
       "Low        0.999782  0.999649  1.000000  0.999783   0.999730 -0.268473\n",
       "Close      0.999585  0.999833  0.999783  1.000000   0.999942 -0.267879\n",
       "Adj Close  0.999522  0.999766  0.999730  0.999942   1.000000 -0.267742\n",
       "Volume    -0.268258 -0.267634 -0.268473 -0.267879  -0.267742  1.000000"
      ]
     },
     "execution_count": 9,
     "metadata": {},
     "output_type": "execute_result"
    }
   ],
   "source": [
    "df_numeric = ( df.select_dtypes(include=['number']))\n",
    "correlation_matrix = df_numeric.corr()\n",
    "correlation_matrix"
   ]
  },
  {
   "cell_type": "code",
   "execution_count": 10,
   "id": "848930bf-7425-4ace-8ff1-9f897ef1613e",
   "metadata": {
    "scrolled": true
   },
   "outputs": [
    {
     "data": {
      "image/png": "[encoded data removed]",
      "text/plain": [
       "<Figure size 1400x1200 with 6 Axes>"
      ]
     },
     "metadata": {},
     "output_type": "display_data"
    }
   ],
   "source": [
    "fig, axes = plt.subplots(3, 2, figsize=(14, 12))\n",
    "columns = ['Open', 'High', 'Low', 'Close', 'Adj Close', 'Volume']\n",
    "\n",
    "for i, col in enumerate(columns):\n",
    "    sb.boxplot(data=df[col], ax=axes[i//2, i%2], color='green')\n",
    "    axes[i//2, i%2].set_title(f'Boxplot of {col}')\n",
    "\n",
    "plt.tight_layout()\n",
    "plt.show()"
   ]
  },
  {
   "cell_type": "markdown",
   "id": "95468c40-88cf-48e3-b3e6-045608d54645",
   "metadata": {},
   "source": [
    "# Skewness"
   ]
  },
  {
   "cell_type": "code",
   "execution_count": 11,
   "id": "b1dedc7a-ca84-4c80-b2c8-d4492d9da992",
   "metadata": {},
   "outputs": [
    {
     "data": {
      "image/png": "[encoded data removed]",
      "text/plain": [
       "<Figure size 1400x1200 with 6 Axes>"
      ]
     },
     "metadata": {},
     "output_type": "display_data"
    }
   ],
   "source": [
    "# sb.kdeplot(df.Close)\n",
    "# plt.title('KDE Plot of Close Prices')\n",
    "# plt.show()\n",
    "sb.set(style=\"whitegrid\")\n",
    "\n",
    "# Create subplots for histograms of stock prices and volume\n",
    "fig, axes = plt.subplots(3, 2, figsize=(14, 12))\n",
    "\n",
    "# List of columns to plot\n",
    "columns = ['Open', 'High', 'Low', 'Close', 'Adj Close', 'Volume']\n",
    "\n",
    "# Plot histograms for each column in one line using enumerate\n",
    "for ax, col in zip(axes.flat, columns):\n",
    "    sb.histplot(df[col], bins=50, kde=True, ax=ax, color='green')\n",
    "    ax.set_title(f'Distribution of {col}')\n",
    "    ax.set_xlabel(col)\n",
    "    ax.set_ylabel('Frequency')\n",
    "\n",
    "# Adjust layout to avoid overlap\n",
    "plt.tight_layout()\n",
    "plt.show()"
   ]
  },
  {
   "cell_type": "markdown",
   "id": "54d36878-66f9-4587-9e35-74d92a3a1766",
   "metadata": {},
   "source": [
    "# Setup CandleStick Environment"
   ]
  },
  {
   "cell_type": "code",
   "execution_count": 12,
   "id": "2bb83023-1be4-4fa3-8463-8bed9ed681f2",
   "metadata": {},
   "outputs": [],
   "source": [
    "import plotly.graph_objects as go\n",
    "from plotly.subplots import make_subplots"
   ]
  },
  {
   "cell_type": "code",
   "execution_count": 13,
   "id": "4381075c-a0cb-4a2a-8060-a47ed1b45fc3",
   "metadata": {},
   "outputs": [],
   "source": [
    "df.Date=df.Date.astype('datetime64[ns]')"
   ]
  },
  {
   "cell_type": "code",
   "execution_count": 14,
   "id": "153256d4-fd40-4a84-8278-66fffb1016d8",
   "metadata": {},
   "outputs": [
    {
     "name": "stdout",
     "output_type": "stream",
     "text": [
      "['TCS' 'WIPRO' 'OFSS' 'KPITTECH' 'INFY' 'HCLTECH' 'LTIM' 'TECHM'\n",
      " 'PERSISTENT' 'MPHASIS' 'TATAELXSI' 'COFORGE' 'CYIENT' 'AFFLE'\n",
      " 'ZENSERTECH' 'BAYERCROP' 'UPL LIMITED' 'ESCORTS' 'PIIND' 'BASF'\n",
      " 'JSWENERGY' 'RELIANCE' 'NTPC' 'ONGC' 'ADANIGREEN' 'APOLLOHOSP'\n",
      " 'ARTEMISMED' 'ASTERDM' 'LALPATHLAB' 'FORTIS' 'HINDUNILVR' 'ITC'\n",
      " 'NESTLEIND' 'BRITANNIA' 'MARICO' 'INFOSYS' 'HAL' 'BDL' 'BEL' 'MDL' 'BEML'\n",
      " 'HDFCBank' 'ICICIBANK' 'BAJFINANCE' 'SBIN' 'AXISBANK' 'IRFC' 'IRCTC'\n",
      " 'RVNL' 'BHEL' 'TITAGARH' 'KERNEX' 'NCC' 'DCW' 'IRCON' 'RAILTEL' 'CONCOR'\n",
      " 'RITES']\n"
     ]
    },
    {
     "name": "stdin",
     "output_type": "stream",
     "text": [
      "Enter the Symbol:  LTIM\n"
     ]
    },
    {
     "data": {
      "image/png": "[encoded data removed]",
      "text/plain": [
       "<Figure size 2000x600 with 1 Axes>"
      ]
     },
     "metadata": {},
     "output_type": "display_data"
    }
   ],
   "source": [
    "print(df.Symbol.unique())\n",
    "\n",
    "kd = input(\"Enter the Symbol: \")\n",
    "dk = df[df.Symbol == kd]\n",
    "plt.figure(figsize=(20,6))\n",
    "sb.lineplot(x=dk.Date,y=dk.Close,color=\"red\")\n",
    "plt.xticks(rotation = 90)\n",
    "plt.show()"
   ]
  },
  {
   "cell_type": "code",
   "execution_count": 17,
   "id": "198f2417-d0b3-4505-a887-3a468eda28e5",
   "metadata": {},
   "outputs": [
    {
     "data": {
      "application/vnd.plotly.v1+json": {
       "config": {
        "plotlyServerURL": "https://plot.ly"
       },
       "data": [
        {
         "close": [
          6261.89990234375,
          6144,
          5961.0498046875,
          5866.39990234375,
          5947.64990234375,
          5845.60009765625,
          5909.39990234375,
          5947.5,
          5959.9501953125,
          6237.0498046875,
          6237.0498046875,
          6235.89990234375,
          6275.60009765625,
          5603,
          5652.14990234375,
          5638.5,
          5619.5498046875,
          5494.64990234375,
          5448.35009765625,
          5352.7998046875,
          5448.5498046875,
          5364.64990234375,
          5485.85009765625,
          5438.4501953125,
          5470.2998046875,
          5447.89990234375,
          5420.7998046875,
          5453.2998046875,
          5516.5,
          5557.14990234375,
          5505.14990234375,
          5522.2998046875,
          5580.39990234375,
          5514.0498046875,
          5504.35009765625,
          5420.10009765625,
          5486.75,
          5542.64990234375,
          5466.14990234375,
          5442.7001953125,
          5409.9501953125,
          5300.85009765625,
          5273.5498046875,
          5216.85009765625,
          5131.5498046875,
          5164.2001953125,
          5122.7001953125,
          5123,
          5209.2001953125,
          5195,
          5264.2001953125,
          5194.35009765625,
          5167.4501953125,
          5105.7001953125,
          5101.0498046875,
          5159.89990234375,
          5005,
          4975.2001953125,
          4927.5,
          4938.39990234375,
          4882.60009765625,
          4900.75,
          4869.2998046875,
          4935.2001953125,
          4927.5,
          4897.39990234375,
          4892.64990234375,
          4918.35009765625,
          4888.89990234375,
          4815.14990234375,
          4662.85009765625,
          4697.14990234375,
          4660.5498046875,
          4676.2001953125,
          4723.39990234375,
          4726.7998046875,
          4634.7001953125,
          4788.0498046875,
          4743.9501953125,
          4706.39990234375,
          4692.7001953125,
          4651.9501953125,
          4703.9501953125,
          4699.39990234375,
          4713.7998046875,
          4658,
          4607.64990234375,
          4593.5498046875,
          4634.85009765625,
          4649.2998046875,
          4771.2001953125,
          4764.2998046875,
          4730.75,
          4775.75,
          4831.2998046875,
          4839.75,
          4892.0498046875,
          4885.9501953125,
          4880.7998046875,
          4773.14990234375,
          4701.89990234375,
          4649.39990234375,
          4630.64990234375,
          4688.85009765625,
          4800.25,
          4977.2001953125,
          4903.4501953125,
          4903.5498046875,
          4951.10009765625,
          5047.2001953125,
          5032.5498046875,
          5089.60009765625,
          5019.85009765625,
          5052.4501953125,
          5125.4501953125,
          5111.2001953125,
          5123.85009765625,
          5177.5,
          5377.0498046875,
          5385.0498046875,
          5447.5,
          5474,
          5466.39990234375,
          5459.5,
          5421.7001953125,
          5389.7001953125,
          5377.14990234375,
          5376.25,
          5407.60009765625,
          5572.64990234375,
          5478.14990234375,
          5562.35009765625,
          5756.89990234375,
          5762.75,
          5718.35009765625,
          5688.60009765625,
          5665.14990234375,
          5597.89990234375,
          5788.4501953125,
          5786.60009765625,
          5672.5,
          5658.14990234375,
          5678.89990234375,
          5509.89990234375,
          5390.10009765625,
          5460.75,
          5567.5,
          5338.2998046875,
          5373.5498046875,
          5400.4501953125,
          5384.89990234375,
          5427.5498046875,
          5563.75,
          5676.10009765625,
          5707.7998046875,
          5713.4501953125,
          5704.39990234375,
          5641.60009765625,
          5739.9501953125,
          5751.5498046875,
          6127.5498046875,
          6132.10009765625,
          6156.0498046875,
          6153.5,
          6145.7001953125,
          6071.2001953125,
          6149.2998046875,
          6165.39990234375,
          6146.60009765625,
          6343.35009765625,
          6299.2998046875,
          6392.35009765625
         ],
         "high": [
          6318.75,
          6284,
          6113.25,
          6020,
          6010,
          5988,
          5957.89990234375,
          5957.5,
          5998.89990234375,
          6245,
          6237.0498046875,
          6299.9501953125,
          6324,
          5790,
          5697.2001953125,
          5724,
          5718.89990234375,
          5650,
          5514.10009765625,
          5524.7001953125,
          5466.4501953125,
          5434,
          5541,
          5540,
          5506.85009765625,
          5518.9501953125,
          5490,
          5470,
          5548,
          5575,
          5517,
          5590,
          5594.9501953125,
          5589,
          5590,
          5516.10009765625,
          5506.2998046875,
          5555.14990234375,
          5537.89990234375,
          5508.10009765625,
          5466,
          5429.9501953125,
          5348.4501953125,
          5319.85009765625,
          5219.4501953125,
          5179.35009765625,
          5201.9501953125,
          5133,
          5219.25,
          5275.2001953125,
          5272.14990234375,
          5249.9501953125,
          5219.9501953125,
          5178.10009765625,
          5158.64990234375,
          5193,
          5078,
          5045.35009765625,
          5002.89990234375,
          4967.39990234375,
          4979.75,
          4917.9501953125,
          4933,
          4967.64990234375,
          4945,
          4956,
          4973.10009765625,
          4927.0498046875,
          4953,
          4891.4501953125,
          4786.9501953125,
          4756.85009765625,
          4672.60009765625,
          4700,
          4741.2998046875,
          4754.25,
          4687.75,
          4823.5498046875,
          4809.9501953125,
          4778.60009765625,
          4748.4501953125,
          4723.75,
          4739,
          4729,
          4728.85009765625,
          4727.7001953125,
          4649.9501953125,
          4628.89990234375,
          4670.0498046875,
          4675.9501953125,
          4785.89990234375,
          4790,
          4780.5,
          4805,
          4848.9501953125,
          4860,
          4915.2001953125,
          4933.4501953125,
          4892.89990234375,
          4870.7001953125,
          4775.64990234375,
          4825,
          4675.9501953125,
          4774,
          4819,
          5007.9501953125,
          4978.7998046875,
          4946.35009765625,
          5024,
          5092.14990234375,
          5070.2001953125,
          5132,
          5075.85009765625,
          5071,
          5273.85009765625,
          5149.9501953125,
          5135,
          5190,
          5389.9501953125,
          5450,
          5550,
          5543,
          5503.39990234375,
          5520,
          5493.2001953125,
          5459.64990234375,
          5428.7001953125,
          5426.9501953125,
          5424.64990234375,
          5659.7001953125,
          5642,
          5577.7998046875,
          5778,
          5879.14990234375,
          5780.0498046875,
          5760,
          5715,
          5638.9501953125,
          5811.89990234375,
          5858.7001953125,
          5797,
          5709.39990234375,
          5767.35009765625,
          5667.9501953125,
          5405,
          5528,
          5587,
          5547,
          5483,
          5435.5,
          5405.89990234375,
          5439.9501953125,
          5600,
          5710.5,
          5752,
          5731,
          5769,
          5703,
          5754.7001953125,
          5799,
          6198.89990234375,
          6150,
          6173.0498046875,
          6201,
          6179,
          6088.14990234375,
          6200,
          6317.9501953125,
          6198.9501953125,
          6400,
          6365,
          6410
         ],
         "low": [
          6240,
          6123.4501953125,
          5955,
          5851.7001953125,
          5902,
          5835.0498046875,
          5875,
          5885,
          5913.0498046875,
          6015,
          6237.0498046875,
          6193.89990234375,
          6150,
          5411.75,
          5582,
          5580,
          5598.0498046875,
          5457.2998046875,
          5400,
          5345.0498046875,
          5310.2998046875,
          5342,
          5375.0498046875,
          5425.64990234375,
          5391.35009765625,
          5439,
          5401.10009765625,
          5362,
          5464.5498046875,
          5469.2001953125,
          5404.64990234375,
          5511.0498046875,
          5495.35009765625,
          5509.89990234375,
          5481.4501953125,
          5407.10009765625,
          5406.0498046875,
          5510,
          5444.0498046875,
          5401,
          5380,
          5267,
          5257,
          5209.5498046875,
          5115,
          5073.25,
          5108,
          5057,
          5123,
          5160.14990234375,
          5112.7998046875,
          5170,
          5150,
          5076.2001953125,
          5070.85009765625,
          5130.2998046875,
          4945.0498046875,
          4964,
          4915,
          4908.0498046875,
          4866.10009765625,
          4866.64990234375,
          4864.0498046875,
          4866.10009765625,
          4893,
          4883,
          4880,
          4875.35009765625,
          4880.0498046875,
          4800.2998046875,
          4650.0498046875,
          4677,
          4596.35009765625,
          4633,
          4680.10009765625,
          4709.60009765625,
          4591.5,
          4639.7001953125,
          4715.2001953125,
          4699.9501953125,
          4675.5498046875,
          4640.5498046875,
          4660,
          4652,
          4675.64990234375,
          4627.5498046875,
          4565.60009765625,
          4565.5,
          4589.9501953125,
          4633,
          4665.9501953125,
          4725,
          4711,
          4722.5,
          4780,
          4821.5,
          4826.7001953125,
          4855.2001953125,
          4830.0498046875,
          4748,
          4680,
          4639.7998046875,
          4513.5498046875,
          4630.64990234375,
          4703,
          4820,
          4865,
          4890.2998046875,
          4936.0498046875,
          4971.0498046875,
          4995.25,
          5046.0498046875,
          4970.5,
          5000,
          5110.60009765625,
          5060,
          5070.4501953125,
          5136.10009765625,
          5125,
          5315,
          5352.14990234375,
          5405,
          5435.2998046875,
          5445,
          5398.75,
          5347.25,
          5334.85009765625,
          5320.35009765625,
          5338,
          5470.10009765625,
          5460.5498046875,
          5438.2998046875,
          5605,
          5732.2998046875,
          5661.0498046875,
          5547.5498046875,
          5651.7998046875,
          5561,
          5585.0498046875,
          5750,
          5651.35009765625,
          5636.5,
          5626,
          5480,
          5257.0498046875,
          5371,
          5503.60009765625,
          5320.85009765625,
          5365.7001953125,
          5319.85009765625,
          5302.7998046875,
          5367,
          5486.9501953125,
          5567.9501953125,
          5665.5,
          5658.39990234375,
          5657.4501953125,
          5620,
          5649.75,
          5706.0498046875,
          5770,
          6055.0498046875,
          6069,
          6102,
          6085,
          5989.75,
          6078,
          6146.9501953125,
          6105,
          6177.2998046875,
          6275,
          6278.35009765625
         ],
         "name": "Candlestick",
         "open": [
          6308.7998046875,
          6230,
          6110,
          5963,
          5945,
          5988,
          5915,
          5915,
          5978.35009765625,
          6025.60009765625,
          6237.0498046875,
          6290,
          6195,
          5700,
          5689,
          5630,
          5650.35009765625,
          5650,
          5497,
          5495,
          5351,
          5430,
          5375.0498046875,
          5540,
          5430.5,
          5500,
          5455.9501953125,
          5470,
          5469.9501953125,
          5515.9501953125,
          5479.9501953125,
          5575.5498046875,
          5567,
          5566,
          5528.89990234375,
          5500,
          5498,
          5546,
          5537.89990234375,
          5465,
          5449,
          5412,
          5315,
          5300,
          5209.85009765625,
          5149.9501953125,
          5178.85009765625,
          5118,
          5143,
          5231.75,
          5184.9501953125,
          5248.0498046875,
          5200,
          5167,
          5115.10009765625,
          5160,
          5044.9501953125,
          5005,
          4980,
          4935.9501953125,
          4955,
          4881.89990234375,
          4900.75,
          4901.9501953125,
          4945,
          4940,
          4936,
          4918.75,
          4916,
          4855,
          4786.9501953125,
          4722.89990234375,
          4650,
          4699,
          4680.10009765625,
          4740.0498046875,
          4659.9501953125,
          4640.5,
          4801.10009765625,
          4750,
          4714.9501953125,
          4705.0498046875,
          4675,
          4710.0498046875,
          4725,
          4717,
          4649.9501953125,
          4607.7998046875,
          4599.85009765625,
          4648.9501953125,
          4665.9501953125,
          4785,
          4750,
          4740,
          4780,
          4843,
          4849.9501953125,
          4915,
          4885,
          4849.9501953125,
          4769.89990234375,
          4825,
          4649.5,
          4634.9501953125,
          4740,
          4825,
          4977.25,
          4924.75,
          4960.64990234375,
          4996.0498046875,
          5047.2001953125,
          5056,
          5072,
          5030,
          5200,
          5100,
          5111.25,
          5155,
          5181,
          5377,
          5372.4501953125,
          5450.0498046875,
          5489.89990234375,
          5479.7998046875,
          5459,
          5421.7001953125,
          5405.5,
          5400,
          5393,
          5521.25,
          5612,
          5490.10009765625,
          5605,
          5781,
          5733,
          5747,
          5694,
          5610,
          5599.85009765625,
          5811.9501953125,
          5786.60009765625,
          5665,
          5689,
          5585,
          5258,
          5371,
          5524,
          5547,
          5440,
          5373.5498046875,
          5346.60009765625,
          5395,
          5529.60009765625,
          5567.9501953125,
          5680,
          5685.10009765625,
          5734.9501953125,
          5691,
          5660,
          5715,
          5775,
          6114,
          6152.10009765625,
          6102,
          6097,
          6005,
          6089.7998046875,
          6205,
          6135,
          6205.64990234375,
          6332,
          6301
         ],
         "type": "candlestick",
         "x": [
          1032,
          1033,
          1034,
          1035,
          1036,
          1037,
          1038,
          1039,
          1040,
          1041,
          1042,
          1043,
          1044,
          1045,
          1046,
          1047,
          1048,
          1049,
          1050,
          1051,
          1052,
          1053,
          1054,
          1055,
          1056,
          1057,
          1058,
          1059,
          1060,
          1061,
          1062,
          1063,
          1064,
          1065,
          1066,
          1067,
          1068,
          1069,
          1070,
          1071,
          1072,
          1073,
          1074,
          1075,
          1076,
          1077,
          1078,
          1079,
          1080,
          1081,
          1082,
          1083,
          1084,
          1085,
          1086,
          1087,
          1088,
          1089,
          1090,
          1091,
          1092,
          1093,
          1094,
          1095,
          1096,
          1097,
          1098,
          1099,
          1100,
          1101,
          1102,
          1103,
          1104,
          1105,
          1106,
          1107,
          1108,
          1109,
          1110,
          1111,
          1112,
          1113,
          1114,
          1115,
          1116,
          1117,
          1118,
          1119,
          1120,
          1121,
          1122,
          1123,
          1124,
          1125,
          1126,
          1127,
          1128,
          1129,
          1130,
          1131,
          1132,
          1133,
          1134,
          1135,
          1136,
          1137,
          1138,
          1139,
          1140,
          1141,
          1142,
          1143,
          1144,
          1145,
          1146,
          1147,
          1148,
          1149,
          1150,
          1151,
          1152,
          1153,
          1154,
          1155,
          1156,
          1157,
          1158,
          1159,
          1160,
          1161,
          1162,
          1163,
          1164,
          1165,
          1166,
          1167,
          1168,
          1169,
          1170,
          1171,
          1172,
          1173,
          1174,
          1175,
          1176,
          1177,
          1178,
          1179,
          1180,
          1181,
          1182,
          1183,
          1184,
          1185,
          1186,
          1187,
          1188,
          1189,
          1190,
          1191,
          1192,
          1193,
          1194,
          1195,
          1196,
          1197,
          1198,
          1199,
          1200,
          1201,
          1202,
          1203
         ]
        }
       ],
       "layout": {
        "height": 700,
        "template": {
         "data": {
          "bar": [
           {
            "error_x": {
             "color": "#2a3f5f"
            },
            "error_y": {
             "color": "#2a3f5f"
            },
            "marker": {
             "line": {
              "color": "#E5ECF6",
              "width": 0.5
             },
             "pattern": {
              "fillmode": "overlay",
              "size": 10,
              "solidity": 0.2
             }
            },
            "type": "bar"
           }
          ],
          "barpolar": [
           {
            "marker": {
             "line": {
              "color": "#E5ECF6",
              "width": 0.5
             },
             "pattern": {
              "fillmode": "overlay",
              "size": 10,
              "solidity": 0.2
             }
            },
            "type": "barpolar"
           }
          ],
          "carpet": [
           {
            "aaxis": {
             "endlinecolor": "#2a3f5f",
             "gridcolor": "white",
             "linecolor": "white",
             "minorgridcolor": "white",
             "startlinecolor": "#2a3f5f"
            },
            "baxis": {
             "endlinecolor": "#2a3f5f",
             "gridcolor": "white",
             "linecolor": "white",
             "minorgridcolor": "white",
             "startlinecolor": "#2a3f5f"
            },
            "type": "carpet"
           }
          ],
          "choropleth": [
           {
            "colorbar": {
             "outlinewidth": 0,
             "ticks": ""
            },
            "type": "choropleth"
           }
          ],
          "contour": [
           {
            "colorbar": {
             "outlinewidth": 0,
             "ticks": ""
            },
            "colorscale": [
             [
              0,
              "#0d0887"
             ],
             [
              0.1111111111111111,
              "#46039f"
             ],
             [
              0.2222222222222222,
              "#7201a8"
             ],
             [
              0.3333333333333333,
              "#9c179e"
             ],
             [
              0.4444444444444444,
              "#bd3786"
             ],
             [
              0.5555555555555556,
              "#d8576b"
             ],
             [
              0.6666666666666666,
              "#ed7953"
             ],
             [
              0.7777777777777778,
              "#fb9f3a"
             ],
             [
              0.8888888888888888,
              "#fdca26"
             ],
             [
              1,
              "#f0f921"
             ]
            ],
            "type": "contour"
           }
          ],
          "contourcarpet": [
           {
            "colorbar": {
             "outlinewidth": 0,
             "ticks": ""
            },
            "type": "contourcarpet"
           }
          ],
          "heatmap": [
           {
            "colorbar": {
             "outlinewidth": 0,
             "ticks": ""
            },
            "colorscale": [
             [
              0,
              "#0d0887"
             ],
             [
              0.1111111111111111,
              "#46039f"
             ],
             [
              0.2222222222222222,
              "#7201a8"
             ],
             [
              0.3333333333333333,
              "#9c179e"
             ],
             [
              0.4444444444444444,
              "#bd3786"
             ],
             [
              0.5555555555555556,
              "#d8576b"
             ],
             [
              0.6666666666666666,
              "#ed7953"
             ],
             [
              0.7777777777777778,
              "#fb9f3a"
             ],
             [
              0.8888888888888888,
              "#fdca26"
             ],
             [
              1,
              "#f0f921"
             ]
            ],
            "type": "heatmap"
           }
          ],
          "heatmapgl": [
           {
            "colorbar": {
             "outlinewidth": 0,
             "ticks": ""
            },
            "colorscale": [
             [
              0,
              "#0d0887"
             ],
             [
              0.1111111111111111,
              "#46039f"
             ],
             [
              0.2222222222222222,
              "#7201a8"
             ],
             [
              0.3333333333333333,
              "#9c179e"
             ],
             [
              0.4444444444444444,
              "#bd3786"
             ],
             [
              0.5555555555555556,
              "#d8576b"
             ],
             [
              0.6666666666666666,
              "#ed7953"
             ],
             [
              0.7777777777777778,
              "#fb9f3a"
             ],
             [
              0.8888888888888888,
              "#fdca26"
             ],
             [
              1,
              "#f0f921"
             ]
            ],
            "type": "heatmapgl"
           }
          ],
          "histogram": [
           {
            "marker": {
             "pattern": {
              "fillmode": "overlay",
              "size": 10,
              "solidity": 0.2
             }
            },
            "type": "histogram"
           }
          ],
          "histogram2d": [
           {
            "colorbar": {
             "outlinewidth": 0,
             "ticks": ""
            },
            "colorscale": [
             [
              0,
              "#0d0887"
             ],
             [
              0.1111111111111111,
              "#46039f"
             ],
             [
              0.2222222222222222,
              "#7201a8"
             ],
             [
              0.3333333333333333,
              "#9c179e"
             ],
             [
              0.4444444444444444,
              "#bd3786"
             ],
             [
              0.5555555555555556,
              "#d8576b"
             ],
             [
              0.6666666666666666,
              "#ed7953"
             ],
             [
              0.7777777777777778,
              "#fb9f3a"
             ],
             [
              0.8888888888888888,
              "#fdca26"
             ],
             [
              1,
              "#f0f921"
             ]
            ],
            "type": "histogram2d"
           }
          ],
          "histogram2dcontour": [
           {
            "colorbar": {
             "outlinewidth": 0,
             "ticks": ""
            },
            "colorscale": [
             [
              0,
              "#0d0887"
             ],
             [
              0.1111111111111111,
              "#46039f"
             ],
             [
              0.2222222222222222,
              "#7201a8"
             ],
             [
              0.3333333333333333,
              "#9c179e"
             ],
             [
              0.4444444444444444,
              "#bd3786"
             ],
             [
              0.5555555555555556,
              "#d8576b"
             ],
             [
              0.6666666666666666,
              "#ed7953"
             ],
             [
              0.7777777777777778,
              "#fb9f3a"
             ],
             [
              0.8888888888888888,
              "#fdca26"
             ],
             [
              1,
              "#f0f921"
             ]
            ],
            "type": "histogram2dcontour"
           }
          ],
          "mesh3d": [
           {
            "colorbar": {
             "outlinewidth": 0,
             "ticks": ""
            },
            "type": "mesh3d"
           }
          ],
          "parcoords": [
           {
            "line": {
             "colorbar": {
              "outlinewidth": 0,
              "ticks": ""
             }
            },
            "type": "parcoords"
           }
          ],
          "pie": [
           {
            "automargin": true,
            "type": "pie"
           }
          ],
          "scatter": [
           {
            "fillpattern": {
             "fillmode": "overlay",
             "size": 10,
             "solidity": 0.2
            },
            "type": "scatter"
           }
          ],
          "scatter3d": [
           {
            "line": {
             "colorbar": {
              "outlinewidth": 0,
              "ticks": ""
             }
            },
            "marker": {
             "colorbar": {
              "outlinewidth": 0,
              "ticks": ""
             }
            },
            "type": "scatter3d"
           }
          ],
          "scattercarpet": [
           {
            "marker": {
             "colorbar": {
              "outlinewidth": 0,
              "ticks": ""
             }
            },
            "type": "scattercarpet"
           }
          ],
          "scattergeo": [
           {
            "marker": {
             "colorbar": {
              "outlinewidth": 0,
              "ticks": ""
             }
            },
            "type": "scattergeo"
           }
          ],
          "scattergl": [
           {
            "marker": {
             "colorbar": {
              "outlinewidth": 0,
              "ticks": ""
             }
            },
            "type": "scattergl"
           }
          ],
          "scattermapbox": [
           {
            "marker": {
             "colorbar": {
              "outlinewidth": 0,
              "ticks": ""
             }
            },
            "type": "scattermapbox"
           }
          ],
          "scatterpolar": [
           {
            "marker": {
             "colorbar": {
              "outlinewidth": 0,
              "ticks": ""
             }
            },
            "type": "scatterpolar"
           }
          ],
          "scatterpolargl": [
           {
            "marker": {
             "colorbar": {
              "outlinewidth": 0,
              "ticks": ""
             }
            },
            "type": "scatterpolargl"
           }
          ],
          "scatterternary": [
           {
            "marker": {
             "colorbar": {
              "outlinewidth": 0,
              "ticks": ""
             }
            },
            "type": "scatterternary"
           }
          ],
          "surface": [
           {
            "colorbar": {
             "outlinewidth": 0,
             "ticks": ""
            },
            "colorscale": [
             [
              0,
              "#0d0887"
             ],
             [
              0.1111111111111111,
              "#46039f"
             ],
             [
              0.2222222222222222,
              "#7201a8"
             ],
             [
              0.3333333333333333,
              "#9c179e"
             ],
             [
              0.4444444444444444,
              "#bd3786"
             ],
             [
              0.5555555555555556,
              "#d8576b"
             ],
             [
              0.6666666666666666,
              "#ed7953"
             ],
             [
              0.7777777777777778,
              "#fb9f3a"
             ],
             [
              0.8888888888888888,
              "#fdca26"
             ],
             [
              1,
              "#f0f921"
             ]
            ],
            "type": "surface"
           }
          ],
          "table": [
           {
            "cells": {
             "fill": {
              "color": "#EBF0F8"
             },
             "line": {
              "color": "white"
             }
            },
            "header": {
             "fill": {
              "color": "#C8D4E3"
             },
             "line": {
              "color": "white"
             }
            },
            "type": "table"
           }
          ]
         },
         "layout": {
          "annotationdefaults": {
           "arrowcolor": "#2a3f5f",
           "arrowhead": 0,
           "arrowwidth": 1
          },
          "autotypenumbers": "strict",
          "coloraxis": {
           "colorbar": {
            "outlinewidth": 0,
            "ticks": ""
           }
          },
          "colorscale": {
           "diverging": [
            [
             0,
             "#8e0152"
            ],
            [
             0.1,
             "#c51b7d"
            ],
            [
             0.2,
             "#de77ae"
            ],
            [
             0.3,
             "#f1b6da"
            ],
            [
             0.4,
             "#fde0ef"
            ],
            [
             0.5,
             "#f7f7f7"
            ],
            [
             0.6,
             "#e6f5d0"
            ],
            [
             0.7,
             "#b8e186"
            ],
            [
             0.8,
             "#7fbc41"
            ],
            [
             0.9,
             "#4d9221"
            ],
            [
             1,
             "#276419"
            ]
           ],
           "sequential": [
            [
             0,
             "#0d0887"
            ],
            [
             0.1111111111111111,
             "#46039f"
            ],
            [
             0.2222222222222222,
             "#7201a8"
            ],
            [
             0.3333333333333333,
             "#9c179e"
            ],
            [
             0.4444444444444444,
             "#bd3786"
            ],
            [
             0.5555555555555556,
             "#d8576b"
            ],
            [
             0.6666666666666666,
             "#ed7953"
            ],
            [
             0.7777777777777778,
             "#fb9f3a"
            ],
            [
             0.8888888888888888,
             "#fdca26"
            ],
            [
             1,
             "#f0f921"
            ]
           ],
           "sequentialminus": [
            [
             0,
             "#0d0887"
            ],
            [
             0.1111111111111111,
             "#46039f"
            ],
            [
             0.2222222222222222,
             "#7201a8"
            ],
            [
             0.3333333333333333,
             "#9c179e"
            ],
            [
             0.4444444444444444,
             "#bd3786"
            ],
            [
             0.5555555555555556,
             "#d8576b"
            ],
            [
             0.6666666666666666,
             "#ed7953"
            ],
            [
             0.7777777777777778,
             "#fb9f3a"
            ],
            [
             0.8888888888888888,
             "#fdca26"
            ],
            [
             1,
             "#f0f921"
            ]
           ]
          },
          "colorway": [
           "#636efa",
           "#EF553B",
           "#00cc96",
           "#ab63fa",
           "#FFA15A",
           "#19d3f3",
           "#FF6692",
           "#B6E880",
           "#FF97FF",
           "#FECB52"
          ],
          "font": {
           "color": "#2a3f5f"
          },
          "geo": {
           "bgcolor": "white",
           "lakecolor": "white",
           "landcolor": "#E5ECF6",
           "showlakes": true,
           "showland": true,
           "subunitcolor": "white"
          },
          "hoverlabel": {
           "align": "left"
          },
          "hovermode": "closest",
          "mapbox": {
           "style": "light"
          },
          "paper_bgcolor": "white",
          "plot_bgcolor": "#E5ECF6",
          "polar": {
           "angularaxis": {
            "gridcolor": "white",
            "linecolor": "white",
            "ticks": ""
           },
           "bgcolor": "#E5ECF6",
           "radialaxis": {
            "gridcolor": "white",
            "linecolor": "white",
            "ticks": ""
           }
          },
          "scene": {
           "xaxis": {
            "backgroundcolor": "#E5ECF6",
            "gridcolor": "white",
            "gridwidth": 2,
            "linecolor": "white",
            "showbackground": true,
            "ticks": "",
            "zerolinecolor": "white"
           },
           "yaxis": {
            "backgroundcolor": "#E5ECF6",
            "gridcolor": "white",
            "gridwidth": 2,
            "linecolor": "white",
            "showbackground": true,
            "ticks": "",
            "zerolinecolor": "white"
           },
           "zaxis": {
            "backgroundcolor": "#E5ECF6",
            "gridcolor": "white",
            "gridwidth": 2,
            "linecolor": "white",
            "showbackground": true,
            "ticks": "",
            "zerolinecolor": "white"
           }
          },
          "shapedefaults": {
           "line": {
            "color": "#2a3f5f"
           }
          },
          "ternary": {
           "aaxis": {
            "gridcolor": "white",
            "linecolor": "white",
            "ticks": ""
           },
           "baxis": {
            "gridcolor": "white",
            "linecolor": "white",
            "ticks": ""
           },
           "bgcolor": "#E5ECF6",
           "caxis": {
            "gridcolor": "white",
            "linecolor": "white",
            "ticks": ""
           }
          },
          "title": {
           "x": 0.05
          },
          "xaxis": {
           "automargin": true,
           "gridcolor": "white",
           "linecolor": "white",
           "ticks": "",
           "title": {
            "standoff": 15
           },
           "zerolinecolor": "white",
           "zerolinewidth": 2
          },
          "yaxis": {
           "automargin": true,
           "gridcolor": "white",
           "linecolor": "white",
           "ticks": "",
           "title": {
            "standoff": 15
           },
           "zerolinecolor": "white",
           "zerolinewidth": 2
          }
         }
        },
        "title": {
         "text": "Stock Price Candlestick Chart"
        },
        "width": 1000,
        "xaxis": {
         "autorange": true,
         "range": [
          1031.5,
          1203.5
         ],
         "rangeslider": {
          "autorange": true,
          "range": [
           1031.5,
           1203.5
          ],
          "visible": true,
          "yaxis": {
           "_template": null,
           "rangemode": "match"
          }
         },
         "title": {
          "text": "Date"
         },
         "type": "linear"
        },
        "yaxis": {
         "autorange": true,
         "range": [
          4408.191460503473,
          6515.358344184027
         ],
         "title": {
          "text": "Price"
         }
        }
       }
      },
      "image/png": "[encoded data removed]",
      "text/html": [
       "<div>                            <div id=\"669d9398-4920-4675-b7c0-c36d8b09c7b5\" class=\"plotly-graph-div\" style=\"height:700px; width:1000px;\"></div>            <script type=\"text/javascript\">                require([\"plotly\"], function(Plotly) {                    window.PLOTLYENV=window.PLOTLYENV || {};                                    if (document.getElementById(\"669d9398-4920-4675-b7c0-c36d8b09c7b5\")) {                    Plotly.newPlot(                        \"669d9398-4920-4675-b7c0-c36d8b09c7b5\",                        [{\"close\":[6261.89990234375,6144.0,5961.0498046875,5866.39990234375,5947.64990234375,5845.60009765625,5909.39990234375,5947.5,5959.9501953125,6237.0498046875,6237.0498046875,6235.89990234375,6275.60009765625,5603.0,5652.14990234375,5638.5,5619.5498046875,5494.64990234375,5448.35009765625,5352.7998046875,5448.5498046875,5364.64990234375,5485.85009765625,5438.4501953125,5470.2998046875,5447.89990234375,5420.7998046875,5453.2998046875,5516.5,5557.14990234375,5505.14990234375,5522.2998046875,5580.39990234375,5514.0498046875,5504.35009765625,5420.10009765625,5486.75,5542.64990234375,5466.14990234375,5442.7001953125,5409.9501953125,5300.85009765625,5273.5498046875,5216.85009765625,5131.5498046875,5164.2001953125,5122.7001953125,5123.0,5209.2001953125,5195.0,5264.2001953125,5194.35009765625,5167.4501953125,5105.7001953125,5101.0498046875,5159.89990234375,5005.0,4975.2001953125,4927.5,4938.39990234375,4882.60009765625,4900.75,4869.2998046875,4935.2001953125,4927.5,4897.39990234375,4892.64990234375,4918.35009765625,4888.89990234375,4815.14990234375,4662.85009765625,4697.14990234375,4660.5498046875,4676.2001953125,4723.39990234375,4726.7998046875,4634.7001953125,4788.0498046875,4743.9501953125,4706.39990234375,4692.7001953125,4651.9501953125,4703.9501953125,4699.39990234375,4713.7998046875,4658.0,4607.64990234375,4593.5498046875,4634.85009765625,4649.2998046875,4771.2001953125,4764.2998046875,4730.75,4775.75,4831.2998046875,4839.75,4892.0498046875,4885.9501953125,4880.7998046875,4773.14990234375,4701.89990234375,4649.39990234375,4630.64990234375,4688.85009765625,4800.25,4977.2001953125,4903.4501953125,4903.5498046875,4951.10009765625,5047.2001953125,5032.5498046875,5089.60009765625,5019.85009765625,5052.4501953125,5125.4501953125,5111.2001953125,5123.85009765625,5177.5,5377.0498046875,5385.0498046875,5447.5,5474.0,5466.39990234375,5459.5,5421.7001953125,5389.7001953125,5377.14990234375,5376.25,5407.60009765625,5572.64990234375,5478.14990234375,5562.35009765625,5756.89990234375,5762.75,5718.35009765625,5688.60009765625,5665.14990234375,5597.89990234375,5788.4501953125,5786.60009765625,5672.5,5658.14990234375,5678.89990234375,5509.89990234375,5390.10009765625,5460.75,5567.5,5338.2998046875,5373.5498046875,5400.4501953125,5384.89990234375,5427.5498046875,5563.75,5676.10009765625,5707.7998046875,5713.4501953125,5704.39990234375,5641.60009765625,5739.9501953125,5751.5498046875,6127.5498046875,6132.10009765625,6156.0498046875,6153.5,6145.7001953125,6071.2001953125,6149.2998046875,6165.39990234375,6146.60009765625,6343.35009765625,6299.2998046875,6392.35009765625],\"high\":[6318.75,6284.0,6113.25,6020.0,6010.0,5988.0,5957.89990234375,5957.5,5998.89990234375,6245.0,6237.0498046875,6299.9501953125,6324.0,5790.0,5697.2001953125,5724.0,5718.89990234375,5650.0,5514.10009765625,5524.7001953125,5466.4501953125,5434.0,5541.0,5540.0,5506.85009765625,5518.9501953125,5490.0,5470.0,5548.0,5575.0,5517.0,5590.0,5594.9501953125,5589.0,5590.0,5516.10009765625,5506.2998046875,5555.14990234375,5537.89990234375,5508.10009765625,5466.0,5429.9501953125,5348.4501953125,5319.85009765625,5219.4501953125,5179.35009765625,5201.9501953125,5133.0,5219.25,5275.2001953125,5272.14990234375,5249.9501953125,5219.9501953125,5178.10009765625,5158.64990234375,5193.0,5078.0,5045.35009765625,5002.89990234375,4967.39990234375,4979.75,4917.9501953125,4933.0,4967.64990234375,4945.0,4956.0,4973.10009765625,4927.0498046875,4953.0,4891.4501953125,4786.9501953125,4756.85009765625,4672.60009765625,4700.0,4741.2998046875,4754.25,4687.75,4823.5498046875,4809.9501953125,4778.60009765625,4748.4501953125,4723.75,4739.0,4729.0,4728.85009765625,4727.7001953125,4649.9501953125,4628.89990234375,4670.0498046875,4675.9501953125,4785.89990234375,4790.0,4780.5,4805.0,4848.9501953125,4860.0,4915.2001953125,4933.4501953125,4892.89990234375,4870.7001953125,4775.64990234375,4825.0,4675.9501953125,4774.0,4819.0,5007.9501953125,4978.7998046875,4946.35009765625,5024.0,5092.14990234375,5070.2001953125,5132.0,5075.85009765625,5071.0,5273.85009765625,5149.9501953125,5135.0,5190.0,5389.9501953125,5450.0,5550.0,5543.0,5503.39990234375,5520.0,5493.2001953125,5459.64990234375,5428.7001953125,5426.9501953125,5424.64990234375,5659.7001953125,5642.0,5577.7998046875,5778.0,5879.14990234375,5780.0498046875,5760.0,5715.0,5638.9501953125,5811.89990234375,5858.7001953125,5797.0,5709.39990234375,5767.35009765625,5667.9501953125,5405.0,5528.0,5587.0,5547.0,5483.0,5435.5,5405.89990234375,5439.9501953125,5600.0,5710.5,5752.0,5731.0,5769.0,5703.0,5754.7001953125,5799.0,6198.89990234375,6150.0,6173.0498046875,6201.0,6179.0,6088.14990234375,6200.0,6317.9501953125,6198.9501953125,6400.0,6365.0,6410.0],\"low\":[6240.0,6123.4501953125,5955.0,5851.7001953125,5902.0,5835.0498046875,5875.0,5885.0,5913.0498046875,6015.0,6237.0498046875,6193.89990234375,6150.0,5411.75,5582.0,5580.0,5598.0498046875,5457.2998046875,5400.0,5345.0498046875,5310.2998046875,5342.0,5375.0498046875,5425.64990234375,5391.35009765625,5439.0,5401.10009765625,5362.0,5464.5498046875,5469.2001953125,5404.64990234375,5511.0498046875,5495.35009765625,5509.89990234375,5481.4501953125,5407.10009765625,5406.0498046875,5510.0,5444.0498046875,5401.0,5380.0,5267.0,5257.0,5209.5498046875,5115.0,5073.25,5108.0,5057.0,5123.0,5160.14990234375,5112.7998046875,5170.0,5150.0,5076.2001953125,5070.85009765625,5130.2998046875,4945.0498046875,4964.0,4915.0,4908.0498046875,4866.10009765625,4866.64990234375,4864.0498046875,4866.10009765625,4893.0,4883.0,4880.0,4875.35009765625,4880.0498046875,4800.2998046875,4650.0498046875,4677.0,4596.35009765625,4633.0,4680.10009765625,4709.60009765625,4591.5,4639.7001953125,4715.2001953125,4699.9501953125,4675.5498046875,4640.5498046875,4660.0,4652.0,4675.64990234375,4627.5498046875,4565.60009765625,4565.5,4589.9501953125,4633.0,4665.9501953125,4725.0,4711.0,4722.5,4780.0,4821.5,4826.7001953125,4855.2001953125,4830.0498046875,4748.0,4680.0,4639.7998046875,4513.5498046875,4630.64990234375,4703.0,4820.0,4865.0,4890.2998046875,4936.0498046875,4971.0498046875,4995.25,5046.0498046875,4970.5,5000.0,5110.60009765625,5060.0,5070.4501953125,5136.10009765625,5125.0,5315.0,5352.14990234375,5405.0,5435.2998046875,5445.0,5398.75,5347.25,5334.85009765625,5320.35009765625,5338.0,5470.10009765625,5460.5498046875,5438.2998046875,5605.0,5732.2998046875,5661.0498046875,5547.5498046875,5651.7998046875,5561.0,5585.0498046875,5750.0,5651.35009765625,5636.5,5626.0,5480.0,5257.0498046875,5371.0,5503.60009765625,5320.85009765625,5365.7001953125,5319.85009765625,5302.7998046875,5367.0,5486.9501953125,5567.9501953125,5665.5,5658.39990234375,5657.4501953125,5620.0,5649.75,5706.0498046875,5770.0,6055.0498046875,6069.0,6102.0,6085.0,5989.75,6078.0,6146.9501953125,6105.0,6177.2998046875,6275.0,6278.35009765625],\"name\":\"Candlestick\",\"open\":[6308.7998046875,6230.0,6110.0,5963.0,5945.0,5988.0,5915.0,5915.0,5978.35009765625,6025.60009765625,6237.0498046875,6290.0,6195.0,5700.0,5689.0,5630.0,5650.35009765625,5650.0,5497.0,5495.0,5351.0,5430.0,5375.0498046875,5540.0,5430.5,5500.0,5455.9501953125,5470.0,5469.9501953125,5515.9501953125,5479.9501953125,5575.5498046875,5567.0,5566.0,5528.89990234375,5500.0,5498.0,5546.0,5537.89990234375,5465.0,5449.0,5412.0,5315.0,5300.0,5209.85009765625,5149.9501953125,5178.85009765625,5118.0,5143.0,5231.75,5184.9501953125,5248.0498046875,5200.0,5167.0,5115.10009765625,5160.0,5044.9501953125,5005.0,4980.0,4935.9501953125,4955.0,4881.89990234375,4900.75,4901.9501953125,4945.0,4940.0,4936.0,4918.75,4916.0,4855.0,4786.9501953125,4722.89990234375,4650.0,4699.0,4680.10009765625,4740.0498046875,4659.9501953125,4640.5,4801.10009765625,4750.0,4714.9501953125,4705.0498046875,4675.0,4710.0498046875,4725.0,4717.0,4649.9501953125,4607.7998046875,4599.85009765625,4648.9501953125,4665.9501953125,4785.0,4750.0,4740.0,4780.0,4843.0,4849.9501953125,4915.0,4885.0,4849.9501953125,4769.89990234375,4825.0,4649.5,4634.9501953125,4740.0,4825.0,4977.25,4924.75,4960.64990234375,4996.0498046875,5047.2001953125,5056.0,5072.0,5030.0,5200.0,5100.0,5111.25,5155.0,5181.0,5377.0,5372.4501953125,5450.0498046875,5489.89990234375,5479.7998046875,5459.0,5421.7001953125,5405.5,5400.0,5393.0,5521.25,5612.0,5490.10009765625,5605.0,5781.0,5733.0,5747.0,5694.0,5610.0,5599.85009765625,5811.9501953125,5786.60009765625,5665.0,5689.0,5585.0,5258.0,5371.0,5524.0,5547.0,5440.0,5373.5498046875,5346.60009765625,5395.0,5529.60009765625,5567.9501953125,5680.0,5685.10009765625,5734.9501953125,5691.0,5660.0,5715.0,5775.0,6114.0,6152.10009765625,6102.0,6097.0,6005.0,6089.7998046875,6205.0,6135.0,6205.64990234375,6332.0,6301.0],\"x\":[1032,1033,1034,1035,1036,1037,1038,1039,1040,1041,1042,1043,1044,1045,1046,1047,1048,1049,1050,1051,1052,1053,1054,1055,1056,1057,1058,1059,1060,1061,1062,1063,1064,1065,1066,1067,1068,1069,1070,1071,1072,1073,1074,1075,1076,1077,1078,1079,1080,1081,1082,1083,1084,1085,1086,1087,1088,1089,1090,1091,1092,1093,1094,1095,1096,1097,1098,1099,1100,1101,1102,1103,1104,1105,1106,1107,1108,1109,1110,1111,1112,1113,1114,1115,1116,1117,1118,1119,1120,1121,1122,1123,1124,1125,1126,1127,1128,1129,1130,1131,1132,1133,1134,1135,1136,1137,1138,1139,1140,1141,1142,1143,1144,1145,1146,1147,1148,1149,1150,1151,1152,1153,1154,1155,1156,1157,1158,1159,1160,1161,1162,1163,1164,1165,1166,1167,1168,1169,1170,1171,1172,1173,1174,1175,1176,1177,1178,1179,1180,1181,1182,1183,1184,1185,1186,1187,1188,1189,1190,1191,1192,1193,1194,1195,1196,1197,1198,1199,1200,1201,1202,1203],\"type\":\"candlestick\"}],                        {\"template\":{\"data\":{\"histogram2dcontour\":[{\"type\":\"histogram2dcontour\",\"colorbar\":{\"outlinewidth\":0,\"ticks\":\"\"},\"colorscale\":[[0.0,\"#0d0887\"],[0.1111111111111111,\"#46039f\"],[0.2222222222222222,\"#7201a8\"],[0.3333333333333333,\"#9c179e\"],[0.4444444444444444,\"#bd3786\"],[0.5555555555555556,\"#d8576b\"],[0.6666666666666666,\"#ed7953\"],[0.7777777777777778,\"#fb9f3a\"],[0.8888888888888888,\"#fdca26\"],[1.0,\"#f0f921\"]]}],\"choropleth\":[{\"type\":\"choropleth\",\"colorbar\":{\"outlinewidth\":0,\"ticks\":\"\"}}],\"histogram2d\":[{\"type\":\"histogram2d\",\"colorbar\":{\"outlinewidth\":0,\"ticks\":\"\"},\"colorscale\":[[0.0,\"#0d0887\"],[0.1111111111111111,\"#46039f\"],[0.2222222222222222,\"#7201a8\"],[0.3333333333333333,\"#9c179e\"],[0.4444444444444444,\"#bd3786\"],[0.5555555555555556,\"#d8576b\"],[0.6666666666666666,\"#ed7953\"],[0.7777777777777778,\"#fb9f3a\"],[0.8888888888888888,\"#fdca26\"],[1.0,\"#f0f921\"]]}],\"heatmap\":[{\"type\":\"heatmap\",\"colorbar\":{\"outlinewidth\":0,\"ticks\":\"\"},\"colorscale\":[[0.0,\"#0d0887\"],[0.1111111111111111,\"#46039f\"],[0.2222222222222222,\"#7201a8\"],[0.3333333333333333,\"#9c179e\"],[0.4444444444444444,\"#bd3786\"],[0.5555555555555556,\"#d8576b\"],[0.6666666666666666,\"#ed7953\"],[0.7777777777777778,\"#fb9f3a\"],[0.8888888888888888,\"#fdca26\"],[1.0,\"#f0f921\"]]}],\"heatmapgl\":[{\"type\":\"heatmapgl\",\"colorbar\":{\"outlinewidth\":0,\"ticks\":\"\"},\"colorscale\":[[0.0,\"#0d0887\"],[0.1111111111111111,\"#46039f\"],[0.2222222222222222,\"#7201a8\"],[0.3333333333333333,\"#9c179e\"],[0.4444444444444444,\"#bd3786\"],[0.5555555555555556,\"#d8576b\"],[0.6666666666666666,\"#ed7953\"],[0.7777777777777778,\"#fb9f3a\"],[0.8888888888888888,\"#fdca26\"],[1.0,\"#f0f921\"]]}],\"contourcarpet\":[{\"type\":\"contourcarpet\",\"colorbar\":{\"outlinewidth\":0,\"ticks\":\"\"}}],\"contour\":[{\"type\":\"contour\",\"colorbar\":{\"outlinewidth\":0,\"ticks\":\"\"},\"colorscale\":[[0.0,\"#0d0887\"],[0.1111111111111111,\"#46039f\"],[0.2222222222222222,\"#7201a8\"],[0.3333333333333333,\"#9c179e\"],[0.4444444444444444,\"#bd3786\"],[0.5555555555555556,\"#d8576b\"],[0.6666666666666666,\"#ed7953\"],[0.7777777777777778,\"#fb9f3a\"],[0.8888888888888888,\"#fdca26\"],[1.0,\"#f0f921\"]]}],\"surface\":[{\"type\":\"surface\",\"colorbar\":{\"outlinewidth\":0,\"ticks\":\"\"},\"colorscale\":[[0.0,\"#0d0887\"],[0.1111111111111111,\"#46039f\"],[0.2222222222222222,\"#7201a8\"],[0.3333333333333333,\"#9c179e\"],[0.4444444444444444,\"#bd3786\"],[0.5555555555555556,\"#d8576b\"],[0.6666666666666666,\"#ed7953\"],[0.7777777777777778,\"#fb9f3a\"],[0.8888888888888888,\"#fdca26\"],[1.0,\"#f0f921\"]]}],\"mesh3d\":[{\"type\":\"mesh3d\",\"colorbar\":{\"outlinewidth\":0,\"ticks\":\"\"}}],\"scatter\":[{\"fillpattern\":{\"fillmode\":\"overlay\",\"size\":10,\"solidity\":0.2},\"type\":\"scatter\"}],\"parcoords\":[{\"type\":\"parcoords\",\"line\":{\"colorbar\":{\"outlinewidth\":0,\"ticks\":\"\"}}}],\"scatterpolargl\":[{\"type\":\"scatterpolargl\",\"marker\":{\"colorbar\":{\"outlinewidth\":0,\"ticks\":\"\"}}}],\"bar\":[{\"error_x\":{\"color\":\"#2a3f5f\"},\"error_y\":{\"color\":\"#2a3f5f\"},\"marker\":{\"line\":{\"color\":\"#E5ECF6\",\"width\":0.5},\"pattern\":{\"fillmode\":\"overlay\",\"size\":10,\"solidity\":0.2}},\"type\":\"bar\"}],\"scattergeo\":[{\"type\":\"scattergeo\",\"marker\":{\"colorbar\":{\"outlinewidth\":0,\"ticks\":\"\"}}}],\"scatterpolar\":[{\"type\":\"scatterpolar\",\"marker\":{\"colorbar\":{\"outlinewidth\":0,\"ticks\":\"\"}}}],\"histogram\":[{\"marker\":{\"pattern\":{\"fillmode\":\"overlay\",\"size\":10,\"solidity\":0.2}},\"type\":\"histogram\"}],\"scattergl\":[{\"type\":\"scattergl\",\"marker\":{\"colorbar\":{\"outlinewidth\":0,\"ticks\":\"\"}}}],\"scatter3d\":[{\"type\":\"scatter3d\",\"line\":{\"colorbar\":{\"outlinewidth\":0,\"ticks\":\"\"}},\"marker\":{\"colorbar\":{\"outlinewidth\":0,\"ticks\":\"\"}}}],\"scattermapbox\":[{\"type\":\"scattermapbox\",\"marker\":{\"colorbar\":{\"outlinewidth\":0,\"ticks\":\"\"}}}],\"scatterternary\":[{\"type\":\"scatterternary\",\"marker\":{\"colorbar\":{\"outlinewidth\":0,\"ticks\":\"\"}}}],\"scattercarpet\":[{\"type\":\"scattercarpet\",\"marker\":{\"colorbar\":{\"outlinewidth\":0,\"ticks\":\"\"}}}],\"carpet\":[{\"aaxis\":{\"endlinecolor\":\"#2a3f5f\",\"gridcolor\":\"white\",\"linecolor\":\"white\",\"minorgridcolor\":\"white\",\"startlinecolor\":\"#2a3f5f\"},\"baxis\":{\"endlinecolor\":\"#2a3f5f\",\"gridcolor\":\"white\",\"linecolor\":\"white\",\"minorgridcolor\":\"white\",\"startlinecolor\":\"#2a3f5f\"},\"type\":\"carpet\"}],\"table\":[{\"cells\":{\"fill\":{\"color\":\"#EBF0F8\"},\"line\":{\"color\":\"white\"}},\"header\":{\"fill\":{\"color\":\"#C8D4E3\"},\"line\":{\"color\":\"white\"}},\"type\":\"table\"}],\"barpolar\":[{\"marker\":{\"line\":{\"color\":\"#E5ECF6\",\"width\":0.5},\"pattern\":{\"fillmode\":\"overlay\",\"size\":10,\"solidity\":0.2}},\"type\":\"barpolar\"}],\"pie\":[{\"automargin\":true,\"type\":\"pie\"}]},\"layout\":{\"autotypenumbers\":\"strict\",\"colorway\":[\"#636efa\",\"#EF553B\",\"#00cc96\",\"#ab63fa\",\"#FFA15A\",\"#19d3f3\",\"#FF6692\",\"#B6E880\",\"#FF97FF\",\"#FECB52\"],\"font\":{\"color\":\"#2a3f5f\"},\"hovermode\":\"closest\",\"hoverlabel\":{\"align\":\"left\"},\"paper_bgcolor\":\"white\",\"plot_bgcolor\":\"#E5ECF6\",\"polar\":{\"bgcolor\":\"#E5ECF6\",\"angularaxis\":{\"gridcolor\":\"white\",\"linecolor\":\"white\",\"ticks\":\"\"},\"radialaxis\":{\"gridcolor\":\"white\",\"linecolor\":\"white\",\"ticks\":\"\"}},\"ternary\":{\"bgcolor\":\"#E5ECF6\",\"aaxis\":{\"gridcolor\":\"white\",\"linecolor\":\"white\",\"ticks\":\"\"},\"baxis\":{\"gridcolor\":\"white\",\"linecolor\":\"white\",\"ticks\":\"\"},\"caxis\":{\"gridcolor\":\"white\",\"linecolor\":\"white\",\"ticks\":\"\"}},\"coloraxis\":{\"colorbar\":{\"outlinewidth\":0,\"ticks\":\"\"}},\"colorscale\":{\"sequential\":[[0.0,\"#0d0887\"],[0.1111111111111111,\"#46039f\"],[0.2222222222222222,\"#7201a8\"],[0.3333333333333333,\"#9c179e\"],[0.4444444444444444,\"#bd3786\"],[0.5555555555555556,\"#d8576b\"],[0.6666666666666666,\"#ed7953\"],[0.7777777777777778,\"#fb9f3a\"],[0.8888888888888888,\"#fdca26\"],[1.0,\"#f0f921\"]],\"sequentialminus\":[[0.0,\"#0d0887\"],[0.1111111111111111,\"#46039f\"],[0.2222222222222222,\"#7201a8\"],[0.3333333333333333,\"#9c179e\"],[0.4444444444444444,\"#bd3786\"],[0.5555555555555556,\"#d8576b\"],[0.6666666666666666,\"#ed7953\"],[0.7777777777777778,\"#fb9f3a\"],[0.8888888888888888,\"#fdca26\"],[1.0,\"#f0f921\"]],\"diverging\":[[0,\"#8e0152\"],[0.1,\"#c51b7d\"],[0.2,\"#de77ae\"],[0.3,\"#f1b6da\"],[0.4,\"#fde0ef\"],[0.5,\"#f7f7f7\"],[0.6,\"#e6f5d0\"],[0.7,\"#b8e186\"],[0.8,\"#7fbc41\"],[0.9,\"#4d9221\"],[1,\"#276419\"]]},\"xaxis\":{\"gridcolor\":\"white\",\"linecolor\":\"white\",\"ticks\":\"\",\"title\":{\"standoff\":15},\"zerolinecolor\":\"white\",\"automargin\":true,\"zerolinewidth\":2},\"yaxis\":{\"gridcolor\":\"white\",\"linecolor\":\"white\",\"ticks\":\"\",\"title\":{\"standoff\":15},\"zerolinecolor\":\"white\",\"automargin\":true,\"zerolinewidth\":2},\"scene\":{\"xaxis\":{\"backgroundcolor\":\"#E5ECF6\",\"gridcolor\":\"white\",\"linecolor\":\"white\",\"showbackground\":true,\"ticks\":\"\",\"zerolinecolor\":\"white\",\"gridwidth\":2},\"yaxis\":{\"backgroundcolor\":\"#E5ECF6\",\"gridcolor\":\"white\",\"linecolor\":\"white\",\"showbackground\":true,\"ticks\":\"\",\"zerolinecolor\":\"white\",\"gridwidth\":2},\"zaxis\":{\"backgroundcolor\":\"#E5ECF6\",\"gridcolor\":\"white\",\"linecolor\":\"white\",\"showbackground\":true,\"ticks\":\"\",\"zerolinecolor\":\"white\",\"gridwidth\":2}},\"shapedefaults\":{\"line\":{\"color\":\"#2a3f5f\"}},\"annotationdefaults\":{\"arrowcolor\":\"#2a3f5f\",\"arrowhead\":0,\"arrowwidth\":1},\"geo\":{\"bgcolor\":\"white\",\"landcolor\":\"#E5ECF6\",\"subunitcolor\":\"white\",\"showland\":true,\"showlakes\":true,\"lakecolor\":\"white\"},\"title\":{\"x\":0.05},\"mapbox\":{\"style\":\"light\"}}},\"xaxis\":{\"rangeslider\":{\"visible\":true},\"title\":{\"text\":\"Date\"}},\"title\":{\"text\":\"Stock Price Candlestick Chart\"},\"yaxis\":{\"title\":{\"text\":\"Price\"}},\"width\":1000,\"height\":700},                        {\"responsive\": true}                    ).then(function(){\n",
       "                            \n",
       "var gd = document.getElementById('669d9398-4920-4675-b7c0-c36d8b09c7b5');\n",
       "var x = new MutationObserver(function (mutations, observer) {{\n",
       "        var display = window.getComputedStyle(gd).display;\n",
       "        if (!display || display === 'none') {{\n",
       "            console.log([gd, 'removed!']);\n",
       "            Plotly.purge(gd);\n",
       "            observer.disconnect();\n",
       "        }}\n",
       "}});\n",
       "\n",
       "// Listen for the removal of the full notebook cells\n",
       "var notebookContainer = gd.closest('#notebook-container');\n",
       "if (notebookContainer) {{\n",
       "    x.observe(notebookContainer, {childList: true});\n",
       "}}\n",
       "\n",
       "// Listen for the clearing of the current output cell\n",
       "var outputEl = gd.closest('.output');\n",
       "if (outputEl) {{\n",
       "    x.observe(outputEl, {childList: true});\n",
       "}}\n",
       "\n",
       "                        })                };                });            </script>        </div>"
      ]
     },
     "metadata": {},
     "output_type": "display_data"
    }
   ],
   "source": [
    "fig = go.Figure(data=[go.Candlestick(\n",
    "    x=dk.index,\n",
    "    open=dk['Open'],\n",
    "    high=dk['High'],\n",
    "    low=dk['Low'],\n",
    "    close=dk['Close'],\n",
    "    name='Candlestick'\n",
    ")])\n",
    "\n",
    "fig.update_layout(\n",
    "    title=\"Stock Price Candlestick Chart\",\n",
    "    xaxis_title=\"Date\",\n",
    "    yaxis_title=\"Price\",\n",
    "    xaxis_rangeslider_visible=True,\n",
    "    width=1000,\n",
    "    height=700\n",
    ")\n",
    "\n",
    "fig.show()"
   ]
  },
  {
   "cell_type": "markdown",
   "id": "e44bec08-346f-4951-829c-5910442cb982",
   "metadata": {},
   "source": [
    "# Bullish Engulfing\n",
    "## Introduction:\n",
    "### A Bullish Engulfing pattern is a key reversal signal in technical analysis, indicating a potential shift from a downtrend to an uptrend. It consists of two candlesticks: the first is a small bearish candle, and the second is a larger bullish candle that completely engulfs the first one. This pattern suggests strong buying momentum, signaling that buyers are overpowering sellers and a price rise may follow. Traders often see this as an opportunity to enter a long position, expecting the market to continue upward."
   ]
  },
  {
   "cell_type": "markdown",
   "id": "631e3345-bfe5-4fde-8305-89b03941949f",
   "metadata": {},
   "source": [
    "# Hammer\n",
    "## Introduction:\n",
    "### The Hammer candlestick pattern is an important tool for traders looking to spot potential reversals in downtrends. It shows that even though sellers were in control earlier in the session, buyers have stepped in to push the price back up, signaling a possible trend reversal. This makes it a powerful indicator for traders to initiate long positions."
   ]
  },
  {
   "cell_type": "markdown",
   "id": "127eb315-4a48-47c4-979c-39841edef4da",
   "metadata": {},
   "source": [
    "# Shooting Star\n",
    "## Introduction:\n",
    "### The Shooting Star candlestick pattern is a critical signal for traders looking to spot potential reversals at the top of an uptrend. It shows that buyers were initially in control, pushing prices higher, but then sellers stepped in to bring prices back down, indicating a possible trend reversal. Traders often use this pattern to anticipate a downward movement and take advantage of the shift in market sentiment."
   ]
  },
  {
   "cell_type": "markdown",
   "id": "142ded0d-5d01-4efc-bff5-6978e720b67b",
   "metadata": {},
   "source": [
    "# Bearish\n",
    "## Introduction:\n",
    "### The Bearish Engulfing candlestick pattern is a significant indicator of a potential trend reversal from an uptrend to a downtrend. It shows that selling pressure is building, and buyers may be losing control of the market. This makes it a strong signal for traders looking to initiate short positions or exit their long trades."
   ]
  },
  {
   "cell_type": "code",
   "execution_count": null,
   "id": "9a92ecdd-9ba4-4067-9d6b-e487086949a4",
   "metadata": {},
   "outputs": [],
   "source": []
  },
  {
   "cell_type": "code",
   "execution_count": null,
   "id": "792346d0-34ba-4bb5-a8fc-46ee23939145",
   "metadata": {},
   "outputs": [],
   "source": []
  }
 ],
 "metadata": {
  "kernelspec": {
   "display_name": "Python 3 (ipykernel)",
   "language": "python",
   "name": "python3"
  },
  "language_info": {
   "codemirror_mode": {
    "name": "ipython",
    "version": 3
   },
   "file_extension": ".py",
   "mimetype": "text/x-python",
   "name": "python",
   "nbconvert_exporter": "python",
   "pygments_lexer": "ipython3",
   "version": "3.11.7"
  }
 },
 "nbformat": 4,
 "nbformat_minor": 5
}
